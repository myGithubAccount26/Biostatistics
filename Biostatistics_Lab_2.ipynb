{
  "nbformat": 4,
  "nbformat_minor": 0,
  "metadata": {
    "colab": {
      "name": "Lab 2",
      "provenance": [],
      "collapsed_sections": [],
      "include_colab_link": true
    },
    "kernelspec": {
      "name": "python3",
      "display_name": "Python 3"
    }
  },
  "cells": [
    {
      "cell_type": "markdown",
      "metadata": {
        "id": "view-in-github",
        "colab_type": "text"
      },
      "source": [
        "<a href=\"https://colab.research.google.com/github/myGithubAccount26/Biostatistics/blob/master/Biostatistics_Lab_2.ipynb\" target=\"_parent\"><img src=\"https://colab.research.google.com/assets/colab-badge.svg\" alt=\"Open In Colab\"/></a>"
      ]
    },
    {
      "cell_type": "markdown",
      "metadata": {
        "id": "_ci_ecL_JMxL"
      },
      "source": [
        "# Lab 2\n",
        "\n",
        "# Turning biology into mathematics\n",
        "\n",
        "In this lab demonstration we will access the uniprot database and create a new dataset. Our dataset will consist of four thousand proteins, half associated with the keyword antibody and the other half not related to the keyword. The proteins are represented by their primary structure sequence of amino acids, in other words each protein is a string of letters representing each amino acid in the sequence. (Don't worry if these ideas are new to you.)"
      ]
    },
    {
      "cell_type": "markdown",
      "metadata": {
        "id": "63dzE6XUEJvX"
      },
      "source": [
        "The one-letter and three-letter codes for amino acids used in the knowledgebase are those adopted by the commission on Biochemical Nomenclature of the IUPAC-IUB\n",
        "\n",
        "One-letter code\tThree-letter code\tAmino-acid name\n",
        "\n",
        "A\tAla\t  Alanine\n",
        "\n",
        "R\tArg\t  Arginine\n",
        "\n",
        "N\tAsn\t  Asparagine\n",
        "\n",
        "D\tAsp\t  Aspartic acid\n",
        "\n",
        "C\tCys\t  Cysteine\n",
        "\n",
        "Q\tGln\t  Glutamine\n",
        "\n",
        "E\tGlu\t  Glutamic acid\n",
        "\n",
        "G\tGly\t  Glycine\n",
        "\n",
        "H\tHis\t  Histidine\n",
        "\n",
        "I\tIle\t  Isoleucine\n",
        "\n",
        "L\tLeu\t  Leucine\n",
        "\n",
        "K\tLys\t  Lysine\n",
        "\n",
        "M\tMet\t  Methionine\n",
        "\n",
        "F\tPhe\t  Phenylalanine\n",
        "\n",
        "P\tPro\t  Proline\n",
        "\n",
        "S\tSer\t  Serine\n",
        "\n",
        "T\tThr\t  Threonine\n",
        "\n",
        "W\tTrp\t  Tryptophan\n",
        "\n",
        "Y\tTyr\t  Tyrosine\n",
        "\n",
        "V\tVal\t  Valine\n",
        "\n",
        "O\tPyl\t  Pyrrolysine\n",
        "\n",
        "U\tSec\t  Selenocysteine\n",
        "\n",
        "B\tAsx\t  Aspartic acid or Asparagine\n",
        "\n",
        "Z\tGlx\t  Glutamic acid or Glutamine\n",
        "\n",
        "X\tXaa\t  Any amino acid\n"
      ]
    },
    {
      "cell_type": "code",
      "metadata": {
        "id": "WLN-5CsQqtgA",
        "outputId": "cf52cb38-f520-47c8-baea-799df4214db4",
        "colab": {
          "base_uri": "https://localhost:8080/"
        }
      },
      "source": [
        "!pip install git+https://github.com/williamedwardhahn/mpcr # This is connecting to git and importing all functions from specific package (mpcr) from a git repository (https://github.com/williamedwardhahn/)\n",
        "from mpcr import *"
      ],
      "execution_count": 1,
      "outputs": [
        {
          "output_type": "stream",
          "text": [
            "Collecting git+https://github.com/williamedwardhahn/mpcr\n",
            "  Cloning https://github.com/williamedwardhahn/mpcr to /tmp/pip-req-build-rksswyj1\n",
            "  Running command git clone -q https://github.com/williamedwardhahn/mpcr /tmp/pip-req-build-rksswyj1\n",
            "Building wheels for collected packages: ImportMPCR\n",
            "  Building wheel for ImportMPCR (setup.py) ... \u001b[?25l\u001b[?25hdone\n",
            "  Created wheel for ImportMPCR: filename=ImportMPCR-0.0.1-cp36-none-any.whl size=5914 sha256=59ee89fecace6b0ca4394c98eb72da1a5bddf00b2ab28bd49f70d2752324639e\n",
            "  Stored in directory: /tmp/pip-ephem-wheel-cache-e26om4r4/wheels/89/93/47/ef43fe80a5b823a05d8dcca5ed1581f4fcdacf69b27110603f\n",
            "Successfully built ImportMPCR\n",
            "Installing collected packages: ImportMPCR\n",
            "Successfully installed ImportMPCR-0.0.1\n"
          ],
          "name": "stdout"
        }
      ]
    },
    {
      "cell_type": "code",
      "metadata": {
        "id": "IyLwBAXUWRuN"
      },
      "source": [
        "# This code will create a dataset from the uniprot database\n",
        "X, Y = get_uniprot_data('=antibody', '!antibody', 2000) # assigns 2000 values to X and to Y associated with 'antibody' and not associated with 'antibody' respectively"
      ],
      "execution_count": 2,
      "outputs": []
    },
    {
      "cell_type": "code",
      "metadata": {
        "id": "HzQ0DhBza2Wb"
      },
      "source": [
        "# Checking the length of the X list and Y list to make sure that they have the correct number of proteins (2000 each)\n",
        "number_X = len(X)\n",
        "number_Y = len(Y)"
      ],
      "execution_count": null,
      "outputs": []
    },
    {
      "cell_type": "code",
      "metadata": {
        "id": "JgEgYYfpa26y",
        "outputId": "55e946fb-5652-41d6-9de1-9c97bccc8cf4",
        "colab": {
          "base_uri": "https://localhost:8080/"
        }
      },
      "source": [
        "print(number_X)\n",
        "print(number_Y)"
      ],
      "execution_count": null,
      "outputs": [
        {
          "output_type": "stream",
          "text": [
            "2000\n",
            "2000\n"
          ],
          "name": "stdout"
        }
      ]
    },
    {
      "cell_type": "code",
      "metadata": {
        "id": "XR4m4PQYOzL8",
        "outputId": "89b4e8e4-60b0-4f57-d9a6-48a1d61c9079",
        "colab": {
          "base_uri": "https://localhost:8080/",
          "height": 86
        }
      },
      "source": [
        "X[0] #Amino acid sequence of the first protein on the list of proteins associated with 'antibody'"
      ],
      "execution_count": null,
      "outputs": [
        {
          "output_type": "execute_result",
          "data": {
            "application/vnd.google.colaboratory.intrinsic+json": {
              "type": "string"
            },
            "text/plain": [
              "'mvllrvlilllswvaglggqygnplnkyirhyeglsydvdslhqkhqrakravshedqflrldfhahgrhfnlrmkrdtslfseefrvetsnavldydtshiytghiygeegsfshgsvidgrfegfiqthggtfyvepaeryikdrtlpfhsviyheddikyphkygpqggcadhsvfermrkyqmtgveevtqtpqekhaingpellrkkrttvaekntcqlyiqtdhlffkyygtreaviaqisshvkaidtiyqttdfsgirnisfmvkririnttadekdptnpfrfpnigvekflelnseqnhddyclayvftdrdfddgvlglawvgapsgssggiceksklysdgkkkslntgiitvqnygshvppkvshitfahevghnfgsphdsgtectpgesknlgqkengnyimyaratsgdklnnnkfslcsirnisqvlekkrnncfvesgqpicgngmveqgeecdcgysdqckdeccydanqpegkkcklkpgkqcspsqgpcctahcafksktekcrddsdcakegicngitalcpasdpkpnftdcnrhtqvcingqcagsicekhgleectcassdgkddkelchvccmkkmepstcastgsvqwnkyflgrtitlqpgspcndfrgycdvfmrcrlvdadgplarlkkaifspelyeniaewivaywwavllmgialimlmagfikicsvhtpssnpklpppkplpgtlkrrrppqpiqqpqrqrpresyqmghmrr'"
            ]
          },
          "metadata": {
            "tags": []
          },
          "execution_count": 8
        }
      ]
    },
    {
      "cell_type": "code",
      "metadata": {
        "id": "qBlaiuvwrhG5",
        "outputId": "b6b41d21-c57b-4fed-a049-1e3341135f35",
        "colab": {
          "base_uri": "https://localhost:8080/",
          "height": 52
        }
      },
      "source": [
        "Y[0] # Amino acid sequence of the first protein on the list not associated with 'antibody'"
      ],
      "execution_count": null,
      "outputs": [
        {
          "output_type": "execute_result",
          "data": {
            "application/vnd.google.colaboratory.intrinsic+json": {
              "type": "string"
            },
            "text/plain": [
              "'mldfekplfeirnkieslkesqdkndvdlqeeidmleasleretkkiytnlkpwdrvqiarlqerpttldyipyifdsfmelhgdrnfrddpamiggigflngravtvigqqrgkdtkdniyrnfgmahpegyrkalrlmkqaekfnrpiftfidtkgaypgkaaeergqsesiatnliemaslkvpviaivigeggsggalgigiankvlmlenstysvispegaaallwkdsnlakiaaetmkitahdikqlgiiddviseplggahkdveqqalaiksafvaqldsleslsrdeiandrfekfrnigsyie'"
            ]
          },
          "metadata": {
            "tags": []
          },
          "execution_count": 9
        }
      ]
    },
    {
      "cell_type": "markdown",
      "metadata": {
        "id": "LnQ7dtWpW4Dm"
      },
      "source": [
        "Turn protein strings of letters into vectors of numbers:"
      ]
    },
    {
      "cell_type": "code",
      "metadata": {
        "id": "PUxGK7R7WRw_"
      },
      "source": [
        "def process_strings(c):\n",
        "    '''Takes in a list of sequences 'c' and turns each one\n",
        "       into a list of numbers.'''\n",
        "       \n",
        "    X = []\n",
        "            \n",
        "    for  m, seq in enumerate(c):\n",
        "        x = [] \n",
        "        for letter in seq:\n",
        "            x.append(max(ord(letter)-97, 0)) # In this line, ord() will take the unicode conversion of the letter enumerated in seq, then will make sure to take the max between 0 and the conversion https://www.geeksforgeeks.org/ord-function-python/\n",
        "        \n",
        "        X.append(x)\n",
        "        \n",
        "    return X"
      ],
      "execution_count": 3,
      "outputs": []
    },
    {
      "cell_type": "code",
      "metadata": {
        "id": "Z-26aR_ksoTd",
        "outputId": "34e47d08-ee51-4798-9913-219809446214",
        "colab": {
          "base_uri": "https://localhost:8080/",
          "height": 34
        }
      },
      "source": [
        "ord('a')-97 # a should be 0 for our process_strings"
      ],
      "execution_count": null,
      "outputs": [
        {
          "output_type": "execute_result",
          "data": {
            "text/plain": [
              "0"
            ]
          },
          "metadata": {
            "tags": []
          },
          "execution_count": 11
        }
      ]
    },
    {
      "cell_type": "code",
      "metadata": {
        "id": "xoq13cTkWRzU"
      },
      "source": [
        "X = process_strings(X)\n",
        "Y = process_strings(Y)"
      ],
      "execution_count": 4,
      "outputs": []
    },
    {
      "cell_type": "code",
      "metadata": {
        "id": "YpX1IK95WR2E",
        "outputId": "250b0367-c893-4c96-b8c8-fa9c395da943",
        "colab": {
          "base_uri": "https://localhost:8080/"
        }
      },
      "source": [
        "print(X[0]) # Each number below is an amino acid that makes up the first protein associated with 'antibody'\n",
        "# Is there a way to find the name of the protein represented by X[0]?  "
      ],
      "execution_count": null,
      "outputs": [
        {
          "output_type": "stream",
          "text": [
            "[12, 0, 7, 2, 19, 4, 24, 12, 13, 0, 15, 10, 10, 11, 15, 0, 3, 21, 0, 4, 4, 11, 0, 19, 19, 0, 16, 10, 11, 21, 16, 0, 6, 10, 6, 8, 11, 0, 0, 3, 4, 18, 19, 16, 19, 8, 10, 10, 17, 5, 3, 13, 8, 10, 11, 4, 13, 19, 8, 4, 13, 17, 0, 18, 24, 17, 3, 11, 11, 5, 6, 19, 10, 6, 11, 6, 10, 5, 8, 18, 6, 0, 8, 11, 5, 4, 4, 19, 11, 5, 16, 10, 13, 4, 0, 6, 21, 15, 12, 21, 13, 11, 11, 7, 13, 4, 13, 8, 8, 15, 6, 8, 10, 21, 3, 10, 6, 11, 21, 13, 8, 15, 2, 19, 3, 4, 4, 10, 18, 19, 16, 6, 11, 3, 6, 11, 0, 4, 17, 2, 10, 4, 24, 24, 10, 0, 6, 0, 17, 5, 0, 10, 22, 17, 19, 21, 11, 21, 8, 3, 19, 0, 10, 6, 10, 15, 19, 3, 11, 18, 8, 7, 4, 19, 0, 22, 6, 11, 0, 17, 24, 0, 18, 8, 2, 16, 16, 13, 17, 11, 21, 15, 8, 21, 4, 15, 4, 8, 11, 0, 3, 6, 15, 7, 18, 8, 4, 21, 2, 0, 21, 21, 19, 16, 10, 21, 11, 18, 2, 21, 5, 10, 0, 11, 16, 4, 13, 6, 21, 11, 11, 4, 6, 0, 11, 11, 10, 15, 13, 12, 21, 19, 0, 6, 24, 4, 2, 19, 0, 10, 19, 19, 19, 16, 3, 21, 6, 5, 11, 19, 21, 17, 19, 11, 17, 17, 19, 21, 15, 15, 0, 11, 15, 6, 21, 21, 5, 11, 18, 6, 6, 16, 18, 4, 4, 4, 0, 18, 21, 13, 11, 13, 18, 8, 13, 0, 11, 6, 15, 7, 15, 22, 0, 11, 19, 5, 18, 24, 6, 17, 0, 11, 16, 0, 18, 21, 11, 13, 19, 22, 16, 6, 10, 10, 4, 13, 21, 0, 10, 0, 17, 4, 21, 11, 11, 16, 17, 0, 4, 0, 13, 18, 11, 0, 19, 24, 6, 10, 24, 10, 6, 6, 0, 6, 6, 4, 13, 0, 6, 0, 18, 11, 24, 4, 10, 10, 24, 21, 24]\n"
          ],
          "name": "stdout"
        }
      ]
    },
    {
      "cell_type": "code",
      "metadata": {
        "id": "B67ed9PJgM8e",
        "outputId": "1c50cd00-961c-4906-8aa8-65f0c2b382fa",
        "colab": {
          "base_uri": "https://localhost:8080/"
        }
      },
      "source": [
        "print(Y[0]) # Each number below is an amino acid that makes up the first protein not associated with 'antibody'"
      ],
      "execution_count": null,
      "outputs": [
        {
          "output_type": "stream",
          "text": [
            "[12, 10, 19, 11, 11, 11, 19, 11, 21, 21, 21, 19, 8, 21, 2, 11, 3, 11, 6, 24, 19, 11, 10, 2, 7, 13, 19, 16, 11, 15, 5, 8, 24, 13, 19, 2, 15, 4, 6, 10, 13, 11, 2, 5, 10, 0, 19, 11, 10, 5, 15, 11, 10, 5, 15, 21, 10, 17, 6, 2, 0, 0, 19, 2, 15, 17, 18, 18, 18, 11, 21, 10, 21, 21, 2, 2, 10, 19, 3, 10, 2, 13]\n"
          ],
          "name": "stdout"
        }
      ]
    },
    {
      "cell_type": "code",
      "metadata": {
        "id": "o3cxGLn-gPV8",
        "outputId": "422330f4-0239-456a-a001-b350930abb28",
        "colab": {
          "base_uri": "https://localhost:8080/",
          "height": 295
        }
      },
      "source": [
        "plt.hist(X[0],25)\n",
        "plt.xticks(np.arange(0,26,1))\n",
        "plt.xlabel(\"Amino acid encoding\")\n",
        "plt.ylabel(\"Number of occurances\")\n",
        "plt.title(\"Single Protein Associated with Antibody\")\n",
        "plt.show() # This will create a histogram with the number of occurances for each respective number in the first element of list X"
      ],
      "execution_count": null,
      "outputs": [
        {
          "output_type": "display_data",
          "data": {
            "image/png": "[encoded data removed]",
            "text/plain": [
              "<Figure size 432x288 with 1 Axes>"
            ]
          },
          "metadata": {
            "tags": [],
            "needs_background": "light"
          }
        }
      ]
    },
    {
      "cell_type": "code",
      "metadata": {
        "id": "ucN9VoYyhg7G",
        "outputId": "67f56fd0-62bd-4b0e-a5a4-cdd258561d6e",
        "colab": {
          "base_uri": "https://localhost:8080/",
          "height": 295
        }
      },
      "source": [
        "plt.hist(Y[0],25)\n",
        "plt.xticks(np.arange(0,26,1))\n",
        "plt.xlabel(\"Amino acid encoding\")\n",
        "plt.ylabel(\"Number of occurances\")\n",
        "plt.title(\"Single Protein Not-associated with Antibody\")\n",
        "plt.show()"
      ],
      "execution_count": null,
      "outputs": [
        {
          "output_type": "display_data",
          "data": {
            "image/png": "[encoded data removed]",
            "text/plain": [
              "<Figure size 432x288 with 1 Axes>"
            ]
          },
          "metadata": {
            "tags": [],
            "needs_background": "light"
          }
        }
      ]
    },
    {
      "cell_type": "code",
      "metadata": {
        "id": "MPaQ44GZhivP",
        "outputId": "c176d7ff-aa8d-4dc9-9ec8-5147ef09b412",
        "colab": {
          "base_uri": "https://localhost:8080/"
        }
      },
      "source": [
        "np.mean(X[0]),np.std(X[0]) #meaningful?"
      ],
      "execution_count": 8,
      "outputs": [
        {
          "output_type": "execute_result",
          "data": {
            "text/plain": [
              "(10.829268292682928, 6.93606964110298)"
            ]
          },
          "metadata": {
            "tags": []
          },
          "execution_count": 8
        }
      ]
    },
    {
      "cell_type": "code",
      "metadata": {
        "id": "lXD4PjXvyR2o",
        "outputId": "5d865c50-5f57-4734-c50a-f29926b15efc",
        "colab": {
          "base_uri": "https://localhost:8080/",
          "height": 35
        }
      },
      "source": [
        "# Can a numeric conversion of nominal letters (amino acids) have an associated meaning? \n",
        "# Is there an order to the letters in an amino acid sequence? \n",
        "# Why not just use numbers?\n",
        "chr(int(round(np.mean(X[0])+97))) # does this mean l is our center letter?\n",
        "# I do not believe that we can apply the same logic to a standard deviation"
      ],
      "execution_count": 9,
      "outputs": [
        {
          "output_type": "execute_result",
          "data": {
            "application/vnd.google.colaboratory.intrinsic+json": {
              "type": "string"
            },
            "text/plain": [
              "'l'"
            ]
          },
          "metadata": {
            "tags": []
          },
          "execution_count": 9
        }
      ]
    },
    {
      "cell_type": "code",
      "metadata": {
        "id": "HMLNHK0q1ykN",
        "outputId": "51b4c5e9-8c9c-4eaf-889d-bd4ff3da3769",
        "colab": {
          "base_uri": "https://localhost:8080/",
          "height": 295
        }
      },
      "source": [
        "Means_X = []\n",
        "\n",
        "for i, seq in enumerate(X):\n",
        "  Means_X.append(np.mean(X[i]))\n",
        "\n",
        "plt.hist(Means_X,25)\n",
        "plt.xlabel(\"Mean amino acid number\")\n",
        "plt.ylabel(\"Number of occurances\")\n",
        "plt.title(\"Proteins Associated with Antibody\")\n",
        "plt.show() # This will create a histogram of the means of the amino acid sequences. As we would expect, these means appear normally distributed"
      ],
      "execution_count": 7,
      "outputs": [
        {
          "output_type": "display_data",
          "data": {
            "image/png": "[encoded data removed]",
            "text/plain": [
              "<Figure size 432x288 with 1 Axes>"
            ]
          },
          "metadata": {
            "tags": [],
            "needs_background": "light"
          }
        }
      ]
    },
    {
      "cell_type": "code",
      "metadata": {
        "id": "cMhyQTb63TPn",
        "outputId": "3baf08fd-71bf-405e-8b0b-bf80e779b7ea",
        "colab": {
          "base_uri": "https://localhost:8080/",
          "height": 295
        }
      },
      "source": [
        "Means_Y = []\n",
        "\n",
        "for i, seq in enumerate(Y):\n",
        "  Means_Y.append(np.mean(Y[i]))\n",
        "\n",
        "plt.hist(Means_Y,25)\n",
        "plt.xlabel(\"Mean amino acid number\")\n",
        "plt.ylabel(\"Number of occurances\")\n",
        "plt.title(\"Proteins Not-associated with Antibody\")\n",
        "plt.show()"
      ],
      "execution_count": 11,
      "outputs": [
        {
          "output_type": "display_data",
          "data": {
            "image/png": "[encoded data removed]",
            "text/plain": [
              "<Figure size 432x288 with 1 Axes>"
            ]
          },
          "metadata": {
            "tags": [],
            "needs_background": "light"
          }
        }
      ]
    },
    {
      "cell_type": "code",
      "metadata": {
        "id": "sWQnKsgM9mjo",
        "outputId": "a70f699e-bea5-48eb-9eeb-1e19c0ef4cb4",
        "colab": {
          "base_uri": "https://localhost:8080/"
        }
      },
      "source": [
        "# Using a K-S test \n",
        "# we can see that the means of amino acid sequences within proteins associated with 'anibody' is significantly different than the means of amino acid sequences within proteins not associated witht he word 'antibody'\n",
        "from scipy.stats import ks_2samp\n",
        "\n",
        "ks_2samp(Means_X, Means_Y)"
      ],
      "execution_count": 12,
      "outputs": [
        {
          "output_type": "execute_result",
          "data": {
            "text/plain": [
              "Ks_2sampResult(statistic=0.3155, pvalue=2.3415567591665026e-88)"
            ]
          },
          "metadata": {
            "tags": []
          },
          "execution_count": 12
        }
      ]
    },
    {
      "cell_type": "code",
      "metadata": {
        "id": "N-6OHX6ZhmjP",
        "outputId": "ce5b6282-629e-475f-8a69-9421a202d045",
        "colab": {
          "base_uri": "https://localhost:8080/"
        }
      },
      "source": [
        "np.array(X[0]).shape"
      ],
      "execution_count": 13,
      "outputs": [
        {
          "output_type": "execute_result",
          "data": {
            "text/plain": [
              "(369,)"
            ]
          },
          "metadata": {
            "tags": []
          },
          "execution_count": 13
        }
      ]
    },
    {
      "cell_type": "markdown",
      "metadata": {
        "id": "3nxa8rTgXL-k"
      },
      "source": [
        "Find lengths of all proteins:"
      ]
    },
    {
      "cell_type": "code",
      "metadata": {
        "id": "-B1LbuuDWR9Q",
        "outputId": "eaf8d6fc-5487-47e1-e41e-c195d15493c0",
        "colab": {
          "base_uri": "https://localhost:8080/"
        }
      },
      "source": [
        "# Loop through proteins and find the length of the animo acid sequence in each\n",
        "X_lengths = [len(s) for s in X]\n",
        "Y_lengths = [len(s) for s in Y]\n",
        "\n",
        "X_lengths[0],Y_lengths[0]"
      ],
      "execution_count": 6,
      "outputs": [
        {
          "output_type": "execute_result",
          "data": {
            "text/plain": [
              "(369, 82)"
            ]
          },
          "metadata": {
            "tags": []
          },
          "execution_count": 6
        }
      ]
    },
    {
      "cell_type": "code",
      "metadata": {
        "id": "bdgz5NgUQ9Te",
        "outputId": "a108317b-4ede-4390-f5bf-20ab61c114ea",
        "colab": {
          "base_uri": "https://localhost:8080/"
        }
      },
      "source": [
        "np.max(X_lengths) # Find the maximum number of amino acids present in the proteins associated with 'antibody'"
      ],
      "execution_count": 14,
      "outputs": [
        {
          "output_type": "execute_result",
          "data": {
            "text/plain": [
              "5654"
            ]
          },
          "metadata": {
            "tags": []
          },
          "execution_count": 14
        }
      ]
    },
    {
      "cell_type": "code",
      "metadata": {
        "id": "TyIC4h17_1Ya",
        "outputId": "5ffaa80c-6d69-43d6-b777-ddfe8a6a1ac8",
        "colab": {
          "base_uri": "https://localhost:8080/"
        }
      },
      "source": [
        "np.max(Y_lengths) # Find the maximum number of amino acids present in the proteins not associated with 'antibody'"
      ],
      "execution_count": 15,
      "outputs": [
        {
          "output_type": "execute_result",
          "data": {
            "text/plain": [
              "3987"
            ]
          },
          "metadata": {
            "tags": []
          },
          "execution_count": 15
        }
      ]
    },
    {
      "cell_type": "code",
      "metadata": {
        "id": "SfMLFv6FmcST",
        "outputId": "754d4837-0942-444a-c3cc-24f4c2c2fa0c",
        "colab": {
          "base_uri": "https://localhost:8080/"
        }
      },
      "source": [
        "np.min(X_lengths) # Find the minimum number of amino acids present in the proteins associated with 'antibody'"
      ],
      "execution_count": 16,
      "outputs": [
        {
          "output_type": "execute_result",
          "data": {
            "text/plain": [
              "5"
            ]
          },
          "metadata": {
            "tags": []
          },
          "execution_count": 16
        }
      ]
    },
    {
      "cell_type": "code",
      "metadata": {
        "id": "T1whnTfDmci_",
        "outputId": "0365ff58-d90b-42ea-d3e3-8c345312594f",
        "colab": {
          "base_uri": "https://localhost:8080/"
        }
      },
      "source": [
        "np.min(Y_lengths) # Find the minimum number of amino acids present in the proteins not associated with 'antibody'"
      ],
      "execution_count": 17,
      "outputs": [
        {
          "output_type": "execute_result",
          "data": {
            "text/plain": [
              "8"
            ]
          },
          "metadata": {
            "tags": []
          },
          "execution_count": 17
        }
      ]
    },
    {
      "cell_type": "code",
      "metadata": {
        "id": "sPfJnU4f_qhr",
        "outputId": "81273b90-c55a-43de-a85c-c509e4f5950d",
        "colab": {
          "base_uri": "https://localhost:8080/"
        }
      },
      "source": [
        "[np.mean(X_lengths), np.std(X_lengths)]"
      ],
      "execution_count": 18,
      "outputs": [
        {
          "output_type": "execute_result",
          "data": {
            "text/plain": [
              "[558.303, 626.3814438431266]"
            ]
          },
          "metadata": {
            "tags": []
          },
          "execution_count": 18
        }
      ]
    },
    {
      "cell_type": "code",
      "metadata": {
        "id": "nTHaFPBz_v8D",
        "outputId": "15405b4e-95fb-499f-c716-1f4442ba0b3d",
        "colab": {
          "base_uri": "https://localhost:8080/"
        }
      },
      "source": [
        "[np.mean(Y_lengths), np.std(Y_lengths)]"
      ],
      "execution_count": 19,
      "outputs": [
        {
          "output_type": "execute_result",
          "data": {
            "text/plain": [
              "[397.232, 324.0550449784727]"
            ]
          },
          "metadata": {
            "tags": []
          },
          "execution_count": 19
        }
      ]
    },
    {
      "cell_type": "code",
      "metadata": {
        "id": "sS2oMAefLb6G",
        "outputId": "10f84513-88ed-4a93-d63b-c463221c8a3d",
        "colab": {
          "base_uri": "https://localhost:8080/",
          "height": 312
        }
      },
      "source": [
        "plt.hist(X_lengths,bins=1000,range=(0,4000)); # plot the lengths of each of the 2000 selected proteins associated with 'antibody'\n",
        "plt.xlabel(\"length of amino acid sequence\")\n",
        "plt.ylabel(\"Number of occurances\")\n",
        "plt.title(\"Proteins Associated with Antibody\")"
      ],
      "execution_count": 20,
      "outputs": [
        {
          "output_type": "execute_result",
          "data": {
            "text/plain": [
              "Text(0.5, 1.0, 'Proteins Associated with Antibody')"
            ]
          },
          "metadata": {
            "tags": []
          },
          "execution_count": 20
        },
        {
          "output_type": "display_data",
          "data": {
            "image/png": "[encoded data removed]",
            "text/plain": [
              "<Figure size 432x288 with 1 Axes>"
            ]
          },
          "metadata": {
            "tags": [],
            "needs_background": "light"
          }
        }
      ]
    },
    {
      "cell_type": "code",
      "metadata": {
        "id": "_rucaC5TLlYb",
        "outputId": "88a593ae-4b52-4fe8-983b-45528a32ad27",
        "colab": {
          "base_uri": "https://localhost:8080/",
          "height": 312
        }
      },
      "source": [
        "plt.hist(Y_lengths,bins=1000,range=(0,2000)); # It appears as if the length of proteins associates with antibody have longer lengths and are more widely distributed than those not associated with antibody\n",
        "plt.xlabel(\"length of amino acid sequence\")\n",
        "plt.ylabel(\"Number of occurances\")\n",
        "plt.title(\"Proteins Not-associated with Antibody\")"
      ],
      "execution_count": 21,
      "outputs": [
        {
          "output_type": "execute_result",
          "data": {
            "text/plain": [
              "Text(0.5, 1.0, 'Proteins Not-associated with Antibody')"
            ]
          },
          "metadata": {
            "tags": []
          },
          "execution_count": 21
        },
        {
          "output_type": "display_data",
          "data": {
            "image/png": "[encoded data removed]",
            "text/plain": [
              "<Figure size 432x288 with 1 Axes>"
            ]
          },
          "metadata": {
            "tags": [],
            "needs_background": "light"
          }
        }
      ]
    },
    {
      "cell_type": "code",
      "metadata": {
        "id": "4i_d_oSLMVDY"
      },
      "source": [
        ""
      ],
      "execution_count": null,
      "outputs": []
    },
    {
      "cell_type": "code",
      "metadata": {
        "id": "2gddyFI1BQsy"
      },
      "source": [
        ""
      ],
      "execution_count": null,
      "outputs": []
    },
    {
      "cell_type": "code",
      "metadata": {
        "id": "zKzosiFFBWFE"
      },
      "source": [
        ""
      ],
      "execution_count": null,
      "outputs": []
    }
  ]
}