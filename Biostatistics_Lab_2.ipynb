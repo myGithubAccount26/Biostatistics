{
  "nbformat": 4,
  "nbformat_minor": 0,
  "metadata": {
    "colab": {
      "name": "Biostatistics Lab 2",
      "provenance": [],
      "include_colab_link": true
    },
    "kernelspec": {
      "name": "python3",
      "display_name": "Python 3"
    }
  },
  "cells": [
    {
      "cell_type": "markdown",
      "metadata": {
        "id": "view-in-github",
        "colab_type": "text"
      },
      "source": [
        "<a href=\"https://colab.research.google.com/github/myGithubAccount26/Biostatistics/blob/master/Biostatistics_Lab_2.ipynb\" target=\"_parent\"><img src=\"https://colab.research.google.com/assets/colab-badge.svg\" alt=\"Open In Colab\"/></a>"
      ]
    },
    {
      "cell_type": "markdown",
      "metadata": {
        "id": "_ci_ecL_JMxL"
      },
      "source": [
        "# Lab 2\n",
        "\n",
        "# Turning biology into mathematics\n",
        "\n",
        "In this lab demonstration we will access the uniprot database and create a new dataset. Our dataset will consist of four thousand proteins, half associated with the keyword antibody and the other half not related to the keyword. The proteins are represented by their primary structure sequence of amino acids, in other words each protein is a string of letters representing each amino acid in the sequence. (Don't worry if these ideas are new to you.)"
      ]
    },
    {
      "cell_type": "markdown",
      "metadata": {
        "id": "63dzE6XUEJvX"
      },
      "source": [
        "The one-letter and three-letter codes for amino acids used in the knowledgebase are those adopted by the commission on Biochemical Nomenclature of the IUPAC-IUB\n",
        "\n",
        "One-letter code\tThree-letter code\tAmino-acid name\n",
        "\n",
        "A\tAla\t  Alanine\n",
        "\n",
        "R\tArg\t  Arginine\n",
        "\n",
        "N\tAsn\t  Asparagine\n",
        "\n",
        "D\tAsp\t  Aspartic acid\n",
        "\n",
        "C\tCys\t  Cysteine\n",
        "\n",
        "Q\tGln\t  Glutamine\n",
        "\n",
        "E\tGlu\t  Glutamic acid\n",
        "\n",
        "G\tGly\t  Glycine\n",
        "\n",
        "H\tHis\t  Histidine\n",
        "\n",
        "I\tIle\t  Isoleucine\n",
        "\n",
        "L\tLeu\t  Leucine\n",
        "\n",
        "K\tLys\t  Lysine\n",
        "\n",
        "M\tMet\t  Methionine\n",
        "\n",
        "F\tPhe\t  Phenylalanine\n",
        "\n",
        "P\tPro\t  Proline\n",
        "\n",
        "S\tSer\t  Serine\n",
        "\n",
        "T\tThr\t  Threonine\n",
        "\n",
        "W\tTrp\t  Tryptophan\n",
        "\n",
        "Y\tTyr\t  Tyrosine\n",
        "\n",
        "V\tVal\t  Valine\n",
        "\n",
        "O\tPyl\t  Pyrrolysine\n",
        "\n",
        "U\tSec\t  Selenocysteine\n",
        "\n",
        "B\tAsx\t  Aspartic acid or Asparagine\n",
        "\n",
        "Z\tGlx\t  Glutamic acid or Glutamine\n",
        "\n",
        "X\tXaa\t  Any amino acid\n"
      ]
    },
    {
      "cell_type": "code",
      "metadata": {
        "id": "WLN-5CsQqtgA",
        "outputId": "77f9cf76-6bd9-4626-d538-6ccfd3535b32",
        "colab": {
          "base_uri": "https://localhost:8080/",
          "height": 221
        }
      },
      "source": [
        "!pip install git+https://github.com/williamedwardhahn/mpcr # This is connecting to git and importing all functions from specific package (mpcr) from a git repository (https://github.com/williamedwardhahn/)\n",
        "from mpcr import *"
      ],
      "execution_count": null,
      "outputs": [
        {
          "output_type": "stream",
          "text": [
            "Collecting git+https://github.com/williamedwardhahn/mpcr\n",
            "  Cloning https://github.com/williamedwardhahn/mpcr to /tmp/pip-req-build-hcgh5no5\n",
            "  Running command git clone -q https://github.com/williamedwardhahn/mpcr /tmp/pip-req-build-hcgh5no5\n",
            "Building wheels for collected packages: ImportMPCR\n",
            "  Building wheel for ImportMPCR (setup.py) ... \u001b[?25l\u001b[?25hdone\n",
            "  Created wheel for ImportMPCR: filename=ImportMPCR-0.0.1-cp36-none-any.whl size=5905 sha256=5d7c0c3e927db1ffed2014443d17d043c4b13dfbce56f78707f2714e5f2e7cd2\n",
            "  Stored in directory: /tmp/pip-ephem-wheel-cache-qb26l3fk/wheels/89/93/47/ef43fe80a5b823a05d8dcca5ed1581f4fcdacf69b27110603f\n",
            "Successfully built ImportMPCR\n",
            "Installing collected packages: ImportMPCR\n",
            "Successfully installed ImportMPCR-0.0.1\n"
          ],
          "name": "stdout"
        },
        {
          "output_type": "stream",
          "text": [
            "/usr/local/lib/python3.6/dist-packages/statsmodels/tools/_testing.py:19: FutureWarning: pandas.util.testing is deprecated. Use the functions in the public API at pandas.testing instead.\n",
            "  import pandas.util.testing as tm\n"
          ],
          "name": "stderr"
        }
      ]
    },
    {
      "cell_type": "code",
      "metadata": {
        "id": "IyLwBAXUWRuN"
      },
      "source": [
        "# This code will create a dataset from the uniprot database\n",
        "X, Y = get_uniprot_data('=antibody', '!antibody', 2000) # assigns 2000 values to X and to Y associated with 'antibody' and not associated with 'antibody' respectively"
      ],
      "execution_count": null,
      "outputs": []
    },
    {
      "cell_type": "code",
      "metadata": {
        "id": "HzQ0DhBza2Wb"
      },
      "source": [
        "# Checking the length of the X list and Y list to make sure that they have the correct number of proteins (2000 each)\n",
        "number_X = len(X)\n",
        "number_Y = len(Y)"
      ],
      "execution_count": null,
      "outputs": []
    },
    {
      "cell_type": "code",
      "metadata": {
        "id": "JgEgYYfpa26y",
        "outputId": "a8f1503e-b10f-45d6-f4dc-3a47593180a5",
        "colab": {
          "base_uri": "https://localhost:8080/",
          "height": 51
        }
      },
      "source": [
        "print(number_X)\n",
        "print(number_Y)"
      ],
      "execution_count": null,
      "outputs": [
        {
          "output_type": "stream",
          "text": [
            "2000\n",
            "2000\n"
          ],
          "name": "stdout"
        }
      ]
    },
    {
      "cell_type": "code",
      "metadata": {
        "id": "XR4m4PQYOzL8",
        "outputId": "89b4e8e4-60b0-4f57-d9a6-48a1d61c9079",
        "colab": {
          "base_uri": "https://localhost:8080/",
          "height": 86
        }
      },
      "source": [
        "X[0] #Amino acid sequence of the first protein on the list of proteins associated with 'antibody'"
      ],
      "execution_count": null,
      "outputs": [
        {
          "output_type": "execute_result",
          "data": {
            "application/vnd.google.colaboratory.intrinsic+json": {
              "type": "string"
            },
            "text/plain": [
              "'mvllrvlilllswvaglggqygnplnkyirhyeglsydvdslhqkhqrakravshedqflrldfhahgrhfnlrmkrdtslfseefrvetsnavldydtshiytghiygeegsfshgsvidgrfegfiqthggtfyvepaeryikdrtlpfhsviyheddikyphkygpqggcadhsvfermrkyqmtgveevtqtpqekhaingpellrkkrttvaekntcqlyiqtdhlffkyygtreaviaqisshvkaidtiyqttdfsgirnisfmvkririnttadekdptnpfrfpnigvekflelnseqnhddyclayvftdrdfddgvlglawvgapsgssggiceksklysdgkkkslntgiitvqnygshvppkvshitfahevghnfgsphdsgtectpgesknlgqkengnyimyaratsgdklnnnkfslcsirnisqvlekkrnncfvesgqpicgngmveqgeecdcgysdqckdeccydanqpegkkcklkpgkqcspsqgpcctahcafksktekcrddsdcakegicngitalcpasdpkpnftdcnrhtqvcingqcagsicekhgleectcassdgkddkelchvccmkkmepstcastgsvqwnkyflgrtitlqpgspcndfrgycdvfmrcrlvdadgplarlkkaifspelyeniaewivaywwavllmgialimlmagfikicsvhtpssnpklpppkplpgtlkrrrppqpiqqpqrqrpresyqmghmrr'"
            ]
          },
          "metadata": {
            "tags": []
          },
          "execution_count": 8
        }
      ]
    },
    {
      "cell_type": "code",
      "metadata": {
        "id": "qBlaiuvwrhG5",
        "outputId": "b6b41d21-c57b-4fed-a049-1e3341135f35",
        "colab": {
          "base_uri": "https://localhost:8080/",
          "height": 52
        }
      },
      "source": [
        "Y[0] # Amino acid sequence of the first protein on the list not associated with 'antibody'"
      ],
      "execution_count": null,
      "outputs": [
        {
          "output_type": "execute_result",
          "data": {
            "application/vnd.google.colaboratory.intrinsic+json": {
              "type": "string"
            },
            "text/plain": [
              "'mldfekplfeirnkieslkesqdkndvdlqeeidmleasleretkkiytnlkpwdrvqiarlqerpttldyipyifdsfmelhgdrnfrddpamiggigflngravtvigqqrgkdtkdniyrnfgmahpegyrkalrlmkqaekfnrpiftfidtkgaypgkaaeergqsesiatnliemaslkvpviaivigeggsggalgigiankvlmlenstysvispegaaallwkdsnlakiaaetmkitahdikqlgiiddviseplggahkdveqqalaiksafvaqldsleslsrdeiandrfekfrnigsyie'"
            ]
          },
          "metadata": {
            "tags": []
          },
          "execution_count": 9
        }
      ]
    },
    {
      "cell_type": "markdown",
      "metadata": {
        "id": "LnQ7dtWpW4Dm"
      },
      "source": [
        "Turn protein strings of letters into vectors of numbers:"
      ]
    },
    {
      "cell_type": "code",
      "metadata": {
        "id": "PUxGK7R7WRw_"
      },
      "source": [
        "def process_strings(c):\n",
        "    '''Takes in a list of sequences 'c' and turns each one\n",
        "       into a list of numbers.'''\n",
        "       \n",
        "    X = []\n",
        "            \n",
        "    for  m, seq in enumerate(c):\n",
        "        x = [] \n",
        "        for letter in seq:\n",
        "            x.append(max(ord(letter)-97, 0)) # In this line, ord() will take the unicode conversion of the letter enumerated in seq, then will make sure to take the max between 0 and the conversion https://www.geeksforgeeks.org/ord-function-python/\n",
        "        \n",
        "        X.append(x)\n",
        "        \n",
        "    return X"
      ],
      "execution_count": null,
      "outputs": []
    },
    {
      "cell_type": "code",
      "metadata": {
        "id": "Z-26aR_ksoTd",
        "outputId": "34e47d08-ee51-4798-9913-219809446214",
        "colab": {
          "base_uri": "https://localhost:8080/",
          "height": 34
        }
      },
      "source": [
        "ord('a')-97 # a should be 0 for our process_strings"
      ],
      "execution_count": null,
      "outputs": [
        {
          "output_type": "execute_result",
          "data": {
            "text/plain": [
              "0"
            ]
          },
          "metadata": {
            "tags": []
          },
          "execution_count": 11
        }
      ]
    },
    {
      "cell_type": "code",
      "metadata": {
        "id": "xoq13cTkWRzU"
      },
      "source": [
        "X = process_strings(X)\n",
        "Y = process_strings(Y)"
      ],
      "execution_count": null,
      "outputs": []
    },
    {
      "cell_type": "code",
      "metadata": {
        "id": "YpX1IK95WR2E",
        "outputId": "f24f0288-cfbc-4923-ecec-1a1858c242ce",
        "colab": {
          "base_uri": "https://localhost:8080/",
          "height": 54
        }
      },
      "source": [
        "print(X[0]) # Each number below is an amino acid that makes up the first protein associated with 'antibody'\n",
        "# Is there a way to find the name of the protein represented by X[0]?  "
      ],
      "execution_count": null,
      "outputs": [
        {
          "output_type": "stream",
          "text": [
            "[12, 21, 11, 11, 17, 21, 11, 8, 11, 11, 11, 18, 22, 21, 0, 6, 11, 6, 6, 16, 24, 6, 13, 15, 11, 13, 10, 24, 8, 17, 7, 24, 4, 6, 11, 18, 24, 3, 21, 3, 18, 11, 7, 16, 10, 7, 16, 17, 0, 10, 17, 0, 21, 18, 7, 4, 3, 16, 5, 11, 17, 11, 3, 5, 7, 0, 7, 6, 17, 7, 5, 13, 11, 17, 12, 10, 17, 3, 19, 18, 11, 5, 18, 4, 4, 5, 17, 21, 4, 19, 18, 13, 0, 21, 11, 3, 24, 3, 19, 18, 7, 8, 24, 19, 6, 7, 8, 24, 6, 4, 4, 6, 18, 5, 18, 7, 6, 18, 21, 8, 3, 6, 17, 5, 4, 6, 5, 8, 16, 19, 7, 6, 6, 19, 5, 24, 21, 4, 15, 0, 4, 17, 24, 8, 10, 3, 17, 19, 11, 15, 5, 7, 18, 21, 8, 24, 7, 4, 3, 3, 8, 10, 24, 15, 7, 10, 24, 6, 15, 16, 6, 6, 2, 0, 3, 7, 18, 21, 5, 4, 17, 12, 17, 10, 24, 16, 12, 19, 6, 21, 4, 4, 21, 19, 16, 19, 15, 16, 4, 10, 7, 0, 8, 13, 6, 15, 4, 11, 11, 17, 10, 10, 17, 19, 19, 21, 0, 4, 10, 13, 19, 2, 16, 11, 24, 8, 16, 19, 3, 7, 11, 5, 5, 10, 24, 24, 6, 19, 17, 4, 0, 21, 8, 0, 16, 8, 18, 18, 7, 21, 10, 0, 8, 3, 19, 8, 24, 16, 19, 19, 3, 5, 18, 6, 8, 17, 13, 8, 18, 5, 12, 21, 10, 17, 8, 17, 8, 13, 19, 19, 0, 3, 4, 10, 3, 15, 19, 13, 15, 5, 17, 5, 15, 13, 8, 6, 21, 4, 10, 5, 11, 4, 11, 13, 18, 4, 16, 13, 7, 3, 3, 24, 2, 11, 0, 24, 21, 5, 19, 3, 17, 3, 5, 3, 3, 6, 21, 11, 6, 11, 0, 22, 21, 6, 0, 15, 18, 6, 18, 18, 6, 6, 8, 2, 4, 10, 18, 10, 11, 24, 18, 3, 6, 10, 10, 10, 18, 11, 13, 19, 6, 8, 8, 19, 21, 16, 13, 24, 6, 18, 7, 21, 15, 15, 10, 21, 18, 7, 8, 19, 5, 0, 7, 4, 21, 6, 7, 13, 5, 6, 18, 15, 7, 3, 18, 6, 19, 4, 2, 19, 15, 6, 4, 18, 10, 13, 11, 6, 16, 10, 4, 13, 6, 13, 24, 8, 12, 24, 0, 17, 0, 19, 18, 6, 3, 10, 11, 13, 13, 13, 10, 5, 18, 11, 2, 18, 8, 17, 13, 8, 18, 16, 21, 11, 4, 10, 10, 17, 13, 13, 2, 5, 21, 4, 18, 6, 16, 15, 8, 2, 6, 13, 6, 12, 21, 4, 16, 6, 4, 4, 2, 3, 2, 6, 24, 18, 3, 16, 2, 10, 3, 4, 2, 2, 24, 3, 0, 13, 16, 15, 4, 6, 10, 10, 2, 10, 11, 10, 15, 6, 10, 16, 2, 18, 15, 18, 16, 6, 15, 2, 2, 19, 0, 7, 2, 0, 5, 10, 18, 10, 19, 4, 10, 2, 17, 3, 3, 18, 3, 2, 0, 10, 4, 6, 8, 2, 13, 6, 8, 19, 0, 11, 2, 15, 0, 18, 3, 15, 10, 15, 13, 5, 19, 3, 2, 13, 17, 7, 19, 16, 21, 2, 8, 13, 6, 16, 2, 0, 6, 18, 8, 2, 4, 10, 7, 6, 11, 4, 4, 2, 19, 2, 0, 18, 18, 3, 6, 10, 3, 3, 10, 4, 11, 2, 7, 21, 2, 2, 12, 10, 10, 12, 4, 15, 18, 19, 2, 0, 18, 19, 6, 18, 21, 16, 22, 13, 10, 24, 5, 11, 6, 17, 19, 8, 19, 11, 16, 15, 6, 18, 15, 2, 13, 3, 5, 17, 6, 24, 2, 3, 21, 5, 12, 17, 2, 17, 11, 21, 3, 0, 3, 6, 15, 11, 0, 17, 11, 10, 10, 0, 8, 5, 18, 15, 4, 11, 24, 4, 13, 8, 0, 4, 22, 8, 21, 0, 24, 22, 22, 0, 21, 11, 11, 12, 6, 8, 0, 11, 8, 12, 11, 12, 0, 6, 5, 8, 10, 8, 2, 18, 21, 7, 19, 15, 18, 18, 13, 15, 10, 11, 15, 15, 15, 10, 15, 11, 15, 6, 19, 11, 10, 17, 17, 17, 15, 15, 16, 15, 8, 16, 16, 15, 16, 17, 16, 17, 15, 17, 4, 18, 24, 16, 12, 6, 7, 12, 17, 17]\n"
          ],
          "name": "stdout"
        }
      ]
    },
    {
      "cell_type": "code",
      "metadata": {
        "id": "B67ed9PJgM8e",
        "outputId": "78c80274-2738-47ae-ea30-b0f79caf2e38",
        "colab": {
          "base_uri": "https://localhost:8080/",
          "height": 54
        }
      },
      "source": [
        "print(Y[0]) # Each number below is an amino acid that makes up the first protein not associated with 'antibody'"
      ],
      "execution_count": null,
      "outputs": [
        {
          "output_type": "stream",
          "text": [
            "[12, 11, 3, 5, 4, 10, 15, 11, 5, 4, 8, 17, 13, 10, 8, 4, 18, 11, 10, 4, 18, 16, 3, 10, 13, 3, 21, 3, 11, 16, 4, 4, 8, 3, 12, 11, 4, 0, 18, 11, 4, 17, 4, 19, 10, 10, 8, 24, 19, 13, 11, 10, 15, 22, 3, 17, 21, 16, 8, 0, 17, 11, 16, 4, 17, 15, 19, 19, 11, 3, 24, 8, 15, 24, 8, 5, 3, 18, 5, 12, 4, 11, 7, 6, 3, 17, 13, 5, 17, 3, 3, 15, 0, 12, 8, 6, 6, 8, 6, 5, 11, 13, 6, 17, 0, 21, 19, 21, 8, 6, 16, 16, 17, 6, 10, 3, 19, 10, 3, 13, 8, 24, 17, 13, 5, 6, 12, 0, 7, 15, 4, 6, 24, 17, 10, 0, 11, 17, 11, 12, 10, 16, 0, 4, 10, 5, 13, 17, 15, 8, 5, 19, 5, 8, 3, 19, 10, 6, 0, 24, 15, 6, 10, 0, 0, 4, 4, 17, 6, 16, 18, 4, 18, 8, 0, 19, 13, 11, 8, 4, 12, 0, 18, 11, 10, 21, 15, 21, 8, 0, 8, 21, 8, 6, 4, 6, 6, 18, 6, 6, 0, 11, 6, 8, 6, 8, 0, 13, 10, 21, 11, 12, 11, 4, 13, 18, 19, 24, 18, 21, 8, 18, 15, 4, 6, 0, 0, 0, 11, 11, 22, 10, 3, 18, 13, 11, 0, 10, 8, 0, 0, 4, 19, 12, 10, 8, 19, 0, 7, 3, 8, 10, 16, 11, 6, 8, 8, 3, 3, 21, 8, 18, 4, 15, 11, 6, 6, 0, 7, 10, 3, 21, 4, 16, 16, 0, 11, 0, 8, 10, 18, 0, 5, 21, 0, 16, 11, 3, 18, 11, 4, 18, 11, 18, 17, 3, 4, 8, 0, 13, 3, 17, 5, 4, 10, 5, 17, 13, 8, 6, 18, 24, 8, 4]\n"
          ],
          "name": "stdout"
        }
      ]
    },
    {
      "cell_type": "code",
      "metadata": {
        "id": "o3cxGLn-gPV8",
        "outputId": "1cabb392-a2e9-43e5-d3ea-7a14eaffaf9c",
        "colab": {
          "base_uri": "https://localhost:8080/",
          "height": 265
        }
      },
      "source": [
        "plt.hist(X[0],25)\n",
        "plt.xticks(np.arange(0,26,1))\n",
        "plt.show() # This will create a histogram with the number of occurances for each respective number in the first element of list X"
      ],
      "execution_count": null,
      "outputs": [
        {
          "output_type": "display_data",
          "data": {
            "image/png": "[encoded data removed]",
            "text/plain": [
              "<Figure size 432x288 with 1 Axes>"
            ]
          },
          "metadata": {
            "tags": [],
            "needs_background": "light"
          }
        }
      ]
    },
    {
      "cell_type": "code",
      "metadata": {
        "id": "ucN9VoYyhg7G",
        "outputId": "0640c71e-6394-4582-ad43-edd9eb35841b",
        "colab": {
          "base_uri": "https://localhost:8080/",
          "height": 367
        }
      },
      "source": [
        "plt.hist(Y[0],25)"
      ],
      "execution_count": null,
      "outputs": [
        {
          "output_type": "execute_result",
          "data": {
            "text/plain": [
              "(array([28.,  0.,  0., 22., 27., 13., 24.,  4., 31.,  0., 23., 27.,  9.,\n",
              "        14.,  0., 11., 12., 17., 18., 12.,  0., 12.,  2.,  0.,  8.]),\n",
              " array([ 0.  ,  0.96,  1.92,  2.88,  3.84,  4.8 ,  5.76,  6.72,  7.68,\n",
              "         8.64,  9.6 , 10.56, 11.52, 12.48, 13.44, 14.4 , 15.36, 16.32,\n",
              "        17.28, 18.24, 19.2 , 20.16, 21.12, 22.08, 23.04, 24.  ]),\n",
              " <a list of 25 Patch objects>)"
            ]
          },
          "metadata": {
            "tags": []
          },
          "execution_count": 16
        },
        {
          "output_type": "display_data",
          "data": {
            "image/png": "[encoded data removed]",
            "text/plain": [
              "<Figure size 432x288 with 1 Axes>"
            ]
          },
          "metadata": {
            "tags": [],
            "needs_background": "light"
          }
        }
      ]
    },
    {
      "cell_type": "code",
      "metadata": {
        "id": "MPaQ44GZhivP",
        "outputId": "dc5c7d05-4e93-4918-e3e3-392acba8322e",
        "colab": {
          "base_uri": "https://localhost:8080/",
          "height": 34
        }
      },
      "source": [
        "np.mean(X[0]),np.std(X[0]) #meaningful?"
      ],
      "execution_count": null,
      "outputs": [
        {
          "output_type": "execute_result",
          "data": {
            "text/plain": [
              "(10.987967914438503, 6.668917015482973)"
            ]
          },
          "metadata": {
            "tags": []
          },
          "execution_count": 17
        }
      ]
    },
    {
      "cell_type": "code",
      "metadata": {
        "id": "lXD4PjXvyR2o",
        "outputId": "e2683991-56db-41f6-ce50-2f9df40ce0cb",
        "colab": {
          "base_uri": "https://localhost:8080/",
          "height": 35
        }
      },
      "source": [
        "# Can a numeric conversion of nominal letters (amino acids) have an associated meaning? \n",
        "# Is there an order to the letters in an amino acid sequence? \n",
        "# Why not just use numbers?\n",
        "chr(int(round(np.mean(X[0])+97))) # does this mean l is our center letter?\n",
        "# I do not believe that we can apply the same logic to a standard deviation"
      ],
      "execution_count": null,
      "outputs": [
        {
          "output_type": "execute_result",
          "data": {
            "application/vnd.google.colaboratory.intrinsic+json": {
              "type": "string"
            },
            "text/plain": [
              "'l'"
            ]
          },
          "metadata": {
            "tags": []
          },
          "execution_count": 41
        }
      ]
    },
    {
      "cell_type": "code",
      "metadata": {
        "id": "N-6OHX6ZhmjP",
        "outputId": "3b76586a-6699-4ed8-ec36-fa274d1edafa",
        "colab": {
          "base_uri": "https://localhost:8080/",
          "height": 34
        }
      },
      "source": [
        "np.array(X[0]).shape"
      ],
      "execution_count": null,
      "outputs": [
        {
          "output_type": "execute_result",
          "data": {
            "text/plain": [
              "(748,)"
            ]
          },
          "metadata": {
            "tags": []
          },
          "execution_count": 18
        }
      ]
    },
    {
      "cell_type": "markdown",
      "metadata": {
        "id": "3nxa8rTgXL-k"
      },
      "source": [
        "Find lengths of all proteins:"
      ]
    },
    {
      "cell_type": "code",
      "metadata": {
        "id": "-B1LbuuDWR9Q"
      },
      "source": [
        "# Loop through proteins and find the length of the animo acid sequence in each\n",
        "X_lengths = [len(s) for s in X]\n",
        "Y_lengths = [len(s) for s in Y]"
      ],
      "execution_count": null,
      "outputs": []
    },
    {
      "cell_type": "code",
      "metadata": {
        "id": "bdgz5NgUQ9Te",
        "outputId": "4781f683-a3f2-4941-c637-3e4253aa0a74",
        "colab": {
          "base_uri": "https://localhost:8080/",
          "height": 34
        }
      },
      "source": [
        "np.max(X_lengths) # Find the maximum number of amino acids present in the proteins associated with 'antibody'"
      ],
      "execution_count": null,
      "outputs": [
        {
          "output_type": "execute_result",
          "data": {
            "text/plain": [
              "5654"
            ]
          },
          "metadata": {
            "tags": []
          },
          "execution_count": 43
        }
      ]
    },
    {
      "cell_type": "code",
      "metadata": {
        "id": "TyIC4h17_1Ya",
        "outputId": "b0bfe3b9-5a7e-4971-de1a-6e55dd3da81d",
        "colab": {
          "base_uri": "https://localhost:8080/",
          "height": 34
        }
      },
      "source": [
        "np.max(Y_lengths) # Find the maximum number of amino acids present in the proteins not associated with 'antibody'"
      ],
      "execution_count": null,
      "outputs": [
        {
          "output_type": "execute_result",
          "data": {
            "text/plain": [
              "11103"
            ]
          },
          "metadata": {
            "tags": []
          },
          "execution_count": 17
        }
      ]
    },
    {
      "cell_type": "code",
      "metadata": {
        "id": "SfMLFv6FmcST",
        "outputId": "6e9648c2-57b9-4de5-8607-d735899083d4",
        "colab": {
          "base_uri": "https://localhost:8080/",
          "height": 34
        }
      },
      "source": [
        "np.min(X_lengths) # Find the minimum number of amino acids present in the proteins associated with 'antibody'"
      ],
      "execution_count": null,
      "outputs": [
        {
          "output_type": "execute_result",
          "data": {
            "text/plain": [
              "5"
            ]
          },
          "metadata": {
            "tags": []
          },
          "execution_count": 18
        }
      ]
    },
    {
      "cell_type": "code",
      "metadata": {
        "id": "T1whnTfDmci_",
        "outputId": "9924c0a2-bd36-48ed-8c93-ae8fd3190890",
        "colab": {
          "base_uri": "https://localhost:8080/",
          "height": 34
        }
      },
      "source": [
        "np.min(Y_lengths) # Find the minimum number of amino acids present in the proteins not associated with 'antibody'"
      ],
      "execution_count": null,
      "outputs": [
        {
          "output_type": "execute_result",
          "data": {
            "text/plain": [
              "6"
            ]
          },
          "metadata": {
            "tags": []
          },
          "execution_count": 19
        }
      ]
    },
    {
      "cell_type": "code",
      "metadata": {
        "id": "sS2oMAefLb6G",
        "outputId": "1a78d9b4-b685-4b27-c2e6-168bdc2de25d",
        "colab": {
          "base_uri": "https://localhost:8080/",
          "height": 265
        }
      },
      "source": [
        "plt.hist(X_lengths,bins=1000,range=(0,4000)); # plot the lengths of each of the 2000 selected proteins associated with 'antibody', "
      ],
      "execution_count": null,
      "outputs": [
        {
          "output_type": "display_data",
          "data": {
            "image/png": "[encoded data removed]",
            "text/plain": [
              "<Figure size 432x288 with 1 Axes>"
            ]
          },
          "metadata": {
            "tags": [],
            "needs_background": "light"
          }
        }
      ]
    },
    {
      "cell_type": "code",
      "metadata": {
        "id": "_rucaC5TLlYb",
        "outputId": "3904c7f1-f258-4f78-cd9a-26d6a165141a",
        "colab": {
          "base_uri": "https://localhost:8080/",
          "height": 265
        }
      },
      "source": [
        "plt.hist(Y_lengths,bins=1000,range=(0,2000));"
      ],
      "execution_count": null,
      "outputs": [
        {
          "output_type": "display_data",
          "data": {
            "image/png": "[encoded data removed]",
            "text/plain": [
              "<Figure size 432x288 with 1 Axes>"
            ]
          },
          "metadata": {
            "tags": [],
            "needs_background": "light"
          }
        }
      ]
    },
    {
      "cell_type": "code",
      "metadata": {
        "id": "4i_d_oSLMVDY"
      },
      "source": [
        ""
      ],
      "execution_count": null,
      "outputs": []
    },
    {
      "cell_type": "code",
      "metadata": {
        "id": "2gddyFI1BQsy"
      },
      "source": [
        ""
      ],
      "execution_count": null,
      "outputs": []
    },
    {
      "cell_type": "code",
      "metadata": {
        "id": "zKzosiFFBWFE"
      },
      "source": [
        ""
      ],
      "execution_count": null,
      "outputs": []
    }
  ]
}