{
  "nbformat": 4,
  "nbformat_minor": 0,
  "metadata": {
    "colab": {
      "name": "PythonCheatSheet.ipynb",
      "provenance": [],
      "collapsed_sections": [],
      "authorship_tag": "ABX9TyPl9RQExsmZ21x0TO4HhNTK",
      "include_colab_link": true
    },
    "kernelspec": {
      "name": "python3",
      "display_name": "Python 3"
    }
  },
  "cells": [
    {
      "cell_type": "markdown",
      "metadata": {
        "id": "view-in-github",
        "colab_type": "text"
      },
      "source": [
        "<a href=\"https://colab.research.google.com/github/myGithubAccount26/Biostatistics/blob/master/PythonCheatSheet.ipynb\" target=\"_parent\"><img src=\"https://colab.research.google.com/assets/colab-badge.svg\" alt=\"Open In Colab\"/></a>"
      ]
    },
    {
      "cell_type": "markdown",
      "metadata": {
        "id": "_F5hDQaquh2p",
        "colab_type": "text"
      },
      "source": [
        "## **Python Cheat Sheat:** \n",
        "Given prior knowledge with python, this worksheet will aim to highlight key commands and concepts not previously known or fully understood. This cheatsheat should be **organized**, easily **searchable**, and **colaborative** for ease of use in the future.\n",
        "\n",
        "- **Multiline comments** (e.g. \"\"\"multiLineTextHere\"\"\")\n",
        "  - Create multiline comments using three single or double quotes\n",
        "  - similar to multiline queries using pyspark's sql.query()\n",
        "- **Operators** (e.g. +, -, \\*, /, %, //, **)\n",
        "  - modulus: (e.g. x%y) \n",
        "    - This will return the remainder of the division of x by y\n",
        "  - floor division: (e.g. x//y) \n",
        "    - This will return the division of x by y, rounded *down* to the nearest whole number\n",
        "  - exponent: (e.g. x**y) \n",
        "    - This will return the x to the exponent of y\n",
        "  - Assignment operators (e.g. +=, -=, %=)\n",
        "    - This is a shortcut to assign the result of the operator to a variable in the same line\n",
        "- **Formatting strings** (e.g. %() and format())\n",
        "  - strings can be formatted using formatting syntax:\n",
        "    - \"String to be formatted\" %(values or variables to be inserted into the string) uses quotes \"%4d\"\n",
        "    - \"String to be formatted\".format(values or variables to be inserted into the string) uses curly braces and a colon to seperate {4:d}\n",
        "    - Format shortcuts:\n",
        "      - **d**: format integers, add spaces with a number indicating total length. \"%5d\" = \"    d\"\n",
        "      - **s**: format strings. \"%s\"\n",
        "      - **f**: format floats, first number indicates total length second number indicates digits after decimal. \"%6.2f\" = \"  x.xx\"\n",
        "- **Lists** (e.g. myList = [List items seperated by commas])\n",
        "  - Append items to end of a list (e.g. myList.append(\"AppendString\")\n",
        "    - This will add \"AppendString\" as the last element of myList\n",
        "  - Delete items in a list (e.g. del myList[3])\n",
        "    - This will delete the fourth element of the list\n",
        "- **Dictionaries** (e.g. myDictionary = {\"dictionaryKey\" : dataPoint} and dict(dictionaryKey = dataPoint))\n",
        "  - This is sort of like a named list in R\n",
        "  - Append/Modify element (e.g. myDictionary[\"newKey\"] = newDataPoint\n",
        "  - Delete element (e.g. del myDictionary[\"newKey\"]\n",
        "- **Interactive input/output** (e.g. input(), print())\n",
        "  - input() function allows you to require input from a user and pass input to a variable\n",
        "- **Inline if** (e.g. print(x) if myInput == \"print\" else print(\"waiting\"))\n",
        "  - simple if else statement in single line\n",
        "-  **enumerate**(myList) \n",
        "  - returns indexes of a list\n",
        "- **range**(*start*, *end*, *stop*)\n",
        "  - generates a list of numbers from *start* to *stop* by the *step* parameter\n",
        "- **While Loop** (e.g. while condition is true: do A)\n",
        "  - Everything to be evaluated should be within a tab\n",
        "- **Breaks** (e.g. break)\n",
        "  - use breaks to stop a loop\n",
        "  - very powerful if used within conditional statements\n",
        "- **Continues** (e.g. continue)\n",
        "  - use continue to skip over a specific iteration of a loop\n",
        "- **Try, Except** (e.g. try: attemptCode except: do something else)\n",
        "  - error handling tool within python that allows for trying a statement and then catching the error and executing another stement accordingly\n",
        "  - there are various exceptions that can be had:\n",
        "    - **ValueError:** when value provided is the correct type but incorrect value\n",
        "    - **ZeroDivisionError:** when attempt to divide by zero\n",
        "    - **IOError:** I/O related failure (e.g. \"file not found\")\n",
        "    - **ImportError:** error in module import\n",
        "    - **IndexError:** error when index is out of range\n",
        "    - **KeyError:** error when dictionary key is not found\n",
        "    - **NameError:** error when local or global name is not found\n",
        "    - **TypeError:** error when type is invalid for required operation or function\n",
        "    - complete list: https://docs.python.org/3/library/exceptions.html\n",
        "    - assign an error to a specific variable with the as assignment (e.g. except ImportError as IE: print(IE)\n",
        "- \n",
        "\n"
      ]
    }
  ]
}